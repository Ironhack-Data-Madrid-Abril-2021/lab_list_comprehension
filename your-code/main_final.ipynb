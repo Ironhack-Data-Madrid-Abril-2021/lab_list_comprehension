{
  "nbformat": 4,
  "nbformat_minor": 0,
  "metadata": {
    "kernelspec": {
      "display_name": "Python 3",
      "language": "python",
      "name": "python3"
    },
    "language_info": {
      "codemirror_mode": {
        "name": "ipython",
        "version": 3
      },
      "file_extension": ".py",
      "mimetype": "text/x-python",
      "name": "python",
      "nbconvert_exporter": "python",
      "pygments_lexer": "ipython3",
      "version": "3.9.2"
    },
    "colab": {
      "name": "main.ipynb",
      "provenance": [],
      "collapsed_sections": [],
      "toc_visible": true
    }
  },
  "cells": [
    {
      "cell_type": "markdown",
      "metadata": {
        "id": "yqQHBiEoseFY"
      },
      "source": [
        "# List Comprehensions Lab\n",
        "\n",
        "Complete the following set of exercises to solidify your knowledge of list comprehensions."
      ]
    },
    {
      "cell_type": "code",
      "metadata": {
        "id": "e3N76I-useFh"
      },
      "source": [
        "import os\n",
        "import numpy as np\n",
        "import pandas as pd"
      ],
      "execution_count": 49,
      "outputs": []
    },
    {
      "cell_type": "markdown",
      "metadata": {
        "id": "jtbTnUDgseFj"
      },
      "source": [
        "### 1. Use a list comprehension to create and print a list of consecutive integers starting with 1 and ending with 50."
      ]
    },
    {
      "cell_type": "code",
      "metadata": {
        "colab": {
          "base_uri": "https://localhost:8080/"
        },
        "id": "gWS8DSXiseFk",
        "outputId": "0162ff8e-99a1-4753-8007-4447f8582d3a"
      },
      "source": [
        "integers_upto50 = [e+1 for e in range(50)]\n",
        "print(integers_upto50)"
      ],
      "execution_count": 50,
      "outputs": [
        {
          "output_type": "stream",
          "text": [
            "[1, 2, 3, 4, 5, 6, 7, 8, 9, 10, 11, 12, 13, 14, 15, 16, 17, 18, 19, 20, 21, 22, 23, 24, 25, 26, 27, 28, 29, 30, 31, 32, 33, 34, 35, 36, 37, 38, 39, 40, 41, 42, 43, 44, 45, 46, 47, 48, 49, 50]\n"
          ],
          "name": "stdout"
        }
      ]
    },
    {
      "cell_type": "markdown",
      "metadata": {
        "id": "sfn4Oh2vseFm"
      },
      "source": [
        "### 2. Use a list comprehension to create and print a list of even numbers starting with 2 and ending with 200."
      ]
    },
    {
      "cell_type": "code",
      "metadata": {
        "colab": {
          "base_uri": "https://localhost:8080/"
        },
        "id": "O3xud-XOseFn",
        "outputId": "6f666b80-9283-40e2-fb53-8cdf90cea2ae"
      },
      "source": [
        "evennumbers_upto200 = [e+2 for e in range(200) if e %2 == 0]\n",
        "print(evennumbers_upto200)"
      ],
      "execution_count": 51,
      "outputs": [
        {
          "output_type": "stream",
          "text": [
            "[2, 4, 6, 8, 10, 12, 14, 16, 18, 20, 22, 24, 26, 28, 30, 32, 34, 36, 38, 40, 42, 44, 46, 48, 50, 52, 54, 56, 58, 60, 62, 64, 66, 68, 70, 72, 74, 76, 78, 80, 82, 84, 86, 88, 90, 92, 94, 96, 98, 100, 102, 104, 106, 108, 110, 112, 114, 116, 118, 120, 122, 124, 126, 128, 130, 132, 134, 136, 138, 140, 142, 144, 146, 148, 150, 152, 154, 156, 158, 160, 162, 164, 166, 168, 170, 172, 174, 176, 178, 180, 182, 184, 186, 188, 190, 192, 194, 196, 198, 200]\n"
          ],
          "name": "stdout"
        }
      ]
    },
    {
      "cell_type": "markdown",
      "metadata": {
        "id": "uWTuH-cUseFn"
      },
      "source": [
        "### 3. Use a list comprehension to create and print a list containing all elements of the 10 x 4 Numpy array below."
      ]
    },
    {
      "cell_type": "code",
      "metadata": {
        "id": "z1wYeidSseFo"
      },
      "source": [
        "a = np.array([[0.84062117, 0.48006452, 0.7876326 , 0.77109654],\n",
        "       [0.44409793, 0.09014516, 0.81835917, 0.87645456],\n",
        "       [0.7066597 , 0.09610873, 0.41247947, 0.57433389],\n",
        "       [0.29960807, 0.42315023, 0.34452557, 0.4751035 ],\n",
        "       [0.17003563, 0.46843998, 0.92796258, 0.69814654],\n",
        "       [0.41290051, 0.19561071, 0.16284783, 0.97016248],\n",
        "       [0.71725408, 0.87702738, 0.31244595, 0.76615487],\n",
        "       [0.20754036, 0.57871812, 0.07214068, 0.40356048],\n",
        "       [0.12149553, 0.53222417, 0.9976855 , 0.12536346],\n",
        "       [0.80930099, 0.50962849, 0.94555126, 0.33364763]])"
      ],
      "execution_count": 52,
      "outputs": []
    },
    {
      "cell_type": "code",
      "metadata": {
        "scrolled": true,
        "colab": {
          "base_uri": "https://localhost:8080/"
        },
        "id": "jXKQJtdNseFp",
        "outputId": "a9208cf4-c1b3-490d-b14c-66903ea7c989"
      },
      "source": [
        "print(a)\n",
        "len(a)"
      ],
      "execution_count": 53,
      "outputs": [
        {
          "output_type": "stream",
          "text": [
            "[[0.84062117 0.48006452 0.7876326  0.77109654]\n",
            " [0.44409793 0.09014516 0.81835917 0.87645456]\n",
            " [0.7066597  0.09610873 0.41247947 0.57433389]\n",
            " [0.29960807 0.42315023 0.34452557 0.4751035 ]\n",
            " [0.17003563 0.46843998 0.92796258 0.69814654]\n",
            " [0.41290051 0.19561071 0.16284783 0.97016248]\n",
            " [0.71725408 0.87702738 0.31244595 0.76615487]\n",
            " [0.20754036 0.57871812 0.07214068 0.40356048]\n",
            " [0.12149553 0.53222417 0.9976855  0.12536346]\n",
            " [0.80930099 0.50962849 0.94555126 0.33364763]]\n"
          ],
          "name": "stdout"
        },
        {
          "output_type": "execute_result",
          "data": {
            "text/plain": [
              "10"
            ]
          },
          "metadata": {
            "tags": []
          },
          "execution_count": 53
        }
      ]
    },
    {
      "cell_type": "code",
      "metadata": {
        "colab": {
          "base_uri": "https://localhost:8080/"
        },
        "id": "5d7dLCQ4seFq",
        "outputId": "9125c4d2-eae6-4217-ed9b-b2f1c65b6501"
      },
      "source": [
        "a2 = [a[i][j] for i in range(len(a)) for j in range(4)]\n",
        "print(a2)"
      ],
      "execution_count": 54,
      "outputs": [
        {
          "output_type": "stream",
          "text": [
            "[0.84062117, 0.48006452, 0.7876326, 0.77109654, 0.44409793, 0.09014516, 0.81835917, 0.87645456, 0.7066597, 0.09610873, 0.41247947, 0.57433389, 0.29960807, 0.42315023, 0.34452557, 0.4751035, 0.17003563, 0.46843998, 0.92796258, 0.69814654, 0.41290051, 0.19561071, 0.16284783, 0.97016248, 0.71725408, 0.87702738, 0.31244595, 0.76615487, 0.20754036, 0.57871812, 0.07214068, 0.40356048, 0.12149553, 0.53222417, 0.9976855, 0.12536346, 0.80930099, 0.50962849, 0.94555126, 0.33364763]\n"
          ],
          "name": "stdout"
        }
      ]
    },
    {
      "cell_type": "markdown",
      "metadata": {
        "id": "3ANRNEDUseFr"
      },
      "source": [
        "### 4. Add a condition to the list comprehension above so that only values greater than or equal to 0.5 are printed."
      ]
    },
    {
      "cell_type": "code",
      "metadata": {
        "colab": {
          "base_uri": "https://localhost:8080/"
        },
        "id": "tjl4PDuiseFr",
        "outputId": "2ad4c182-4ce6-4b9e-8e0d-5b5498f886eb"
      },
      "source": [
        "a3 = [a[i][j] for i in range(len(a)) for j in range(4) if a[i][j] >= 0.5]\n",
        "print(a3)"
      ],
      "execution_count": 55,
      "outputs": [
        {
          "output_type": "stream",
          "text": [
            "[0.84062117, 0.7876326, 0.77109654, 0.81835917, 0.87645456, 0.7066597, 0.57433389, 0.92796258, 0.69814654, 0.97016248, 0.71725408, 0.87702738, 0.76615487, 0.57871812, 0.53222417, 0.9976855, 0.80930099, 0.50962849, 0.94555126]\n"
          ],
          "name": "stdout"
        }
      ]
    },
    {
      "cell_type": "markdown",
      "metadata": {
        "id": "0o-HJQXmseFs"
      },
      "source": [
        "### 5. Use a list comprehension to create and print a list containing all elements of the 5 x 2 x 3 Numpy array below."
      ]
    },
    {
      "cell_type": "code",
      "metadata": {
        "id": "b7A-TMy4seFs"
      },
      "source": [
        "b = np.array([[[0.55867166, 0.06210792, 0.08147297],\n",
        "        [0.82579068, 0.91512478, 0.06833034]],\n",
        "\n",
        "       [[0.05440634, 0.65857693, 0.30296619],\n",
        "        [0.06769833, 0.96031863, 0.51293743]],\n",
        "\n",
        "       [[0.09143215, 0.71893382, 0.45850679],\n",
        "        [0.58256464, 0.59005654, 0.56266457]],\n",
        "\n",
        "       [[0.71600294, 0.87392666, 0.11434044],\n",
        "        [0.8694668 , 0.65669313, 0.10708681]],\n",
        "\n",
        "       [[0.07529684, 0.46470767, 0.47984544],\n",
        "        [0.65368638, 0.14901286, 0.23760688]]])"
      ],
      "execution_count": 56,
      "outputs": []
    },
    {
      "cell_type": "code",
      "metadata": {
        "colab": {
          "base_uri": "https://localhost:8080/"
        },
        "id": "e1C6hPyeseFu",
        "outputId": "c7bd8e33-7118-41f7-f272-d9457405d311"
      },
      "source": [
        "b2 = [b[i][j][k] for i in range(len(b)) for j in range(2) for k in range(3)]\n",
        "print(b2)"
      ],
      "execution_count": 59,
      "outputs": [
        {
          "output_type": "stream",
          "text": [
            "[0.55867166, 0.06210792, 0.08147297, 0.82579068, 0.91512478, 0.06833034, 0.05440634, 0.65857693, 0.30296619, 0.06769833, 0.96031863, 0.51293743, 0.09143215, 0.71893382, 0.45850679, 0.58256464, 0.59005654, 0.56266457, 0.71600294, 0.87392666, 0.11434044, 0.8694668, 0.65669313, 0.10708681, 0.07529684, 0.46470767, 0.47984544, 0.65368638, 0.14901286, 0.23760688]\n"
          ],
          "name": "stdout"
        }
      ]
    },
    {
      "cell_type": "markdown",
      "metadata": {
        "id": "tqpq4yjLseFu"
      },
      "source": [
        "### 5. Add a condition to the list comprehension above so that the last value in each subarray is printed, but only if it is less than or equal to 0.5."
      ]
    },
    {
      "cell_type": "code",
      "metadata": {
        "id": "DCMo__FJseFv",
        "colab": {
          "base_uri": "https://localhost:8080/"
        },
        "outputId": "f8331d97-e7b6-410f-afc3-a7761900b406"
      },
      "source": [
        "b3 = [b2[i] for i, j in enumerate(b2) if i % 3 == 0 and b2[i] >= 0.5]\n",
        "print(b3)"
      ],
      "execution_count": 61,
      "outputs": [
        {
          "output_type": "stream",
          "text": [
            "[0.55867166, 0.82579068, 0.58256464, 0.71600294, 0.8694668, 0.65368638]\n"
          ],
          "name": "stdout"
        }
      ]
    },
    {
      "cell_type": "markdown",
      "metadata": {
        "id": "1xYjvPGBseFw"
      },
      "source": [
        "### 6. Use a list comprehension to select and print the names of all CSV files in the */data* directory."
      ]
    },
    {
      "cell_type": "code",
      "metadata": {
        "colab": {
          "base_uri": "https://localhost:8080/"
        },
        "id": "AJkPque_seFw",
        "outputId": "0563f3a3-e9c8-4167-df23-4b4d002e9013"
      },
      "source": [
        "entries = os.listdir('/content/Labbb')\n",
        "print(entries)"
      ],
      "execution_count": 62,
      "outputs": [
        {
          "output_type": "stream",
          "text": [
            "['sample_file_6.csv', 'sample_file_1.csv', 'sample_file_7.csv', 'sample_file_4.txt', 'sample_file_0.txt', 'sample_file_8.txt', 'sample_file_8.csv', 'sample_file_9.csv', 'sample_file_1.txt', 'sample_file_6.txt', 'sample_file_4.csv', 'sample_file_5.txt', 'sample_file_3.csv', 'sample_file_3.txt', 'sample_file_9.txt', 'sample_file_2.csv', 'sample_file_7.txt', 'sample_file_2.txt', 'sample_file_0.csv', 'sample_file_5.csv']\n"
          ],
          "name": "stdout"
        }
      ]
    },
    {
      "cell_type": "code",
      "metadata": {
        "colab": {
          "base_uri": "https://localhost:8080/"
        },
        "id": "FWii8Jju5wRa",
        "outputId": "5388df92-c177-479d-e87c-3826f6b2cf06"
      },
      "source": [
        "csv_files = [f_name for f_name in os.listdir('/content/Labbb') if f_name.endswith('.csv')]\n",
        "print(csv_files)"
      ],
      "execution_count": 64,
      "outputs": [
        {
          "output_type": "stream",
          "text": [
            "['sample_file_6.csv', 'sample_file_1.csv', 'sample_file_7.csv', 'sample_file_8.csv', 'sample_file_9.csv', 'sample_file_4.csv', 'sample_file_3.csv', 'sample_file_2.csv', 'sample_file_0.csv', 'sample_file_5.csv']\n"
          ],
          "name": "stdout"
        }
      ]
    },
    {
      "cell_type": "markdown",
      "metadata": {
        "id": "7ups2su7seFx"
      },
      "source": [
        "### 7. Use a list comprehension and the Pandas `read_csv` and `concat` methods to read all CSV files in the */data* directory and combine them into a single data frame. Display the top 10 rows of the resulting data frame."
      ]
    },
    {
      "cell_type": "code",
      "metadata": {
        "colab": {
          "base_uri": "https://localhost:8080/"
        },
        "id": "_WAmTEq_5Ni3",
        "outputId": "ec13921c-ada8-4c02-9fce-e39f4222c415"
      },
      "source": [
        "df = pd.read_csv('/content/Labbb/sample_file_0.csv')\n",
        "print(df)"
      ],
      "execution_count": 86,
      "outputs": [
        {
          "output_type": "stream",
          "text": [
            "          0         1         2  ...        17        18        19\n",
            "0  0.734751  0.195362  0.734309  ...  0.293260  0.937828  0.880858\n",
            "1  0.772607  0.445391  0.249642  ...  0.389789  0.016787  0.503695\n",
            "2  0.226428  0.268764  0.694262  ...  0.334802  0.517694  0.646110\n",
            "3  0.362748  0.495430  0.113876  ...  0.141746  0.771144  0.489660\n",
            "4  0.033415  0.340433  0.464971  ...  0.676051  0.109349  0.872947\n",
            "\n",
            "[5 rows x 20 columns]\n"
          ],
          "name": "stdout"
        }
      ]
    },
    {
      "cell_type": "code",
      "metadata": {
        "colab": {
          "base_uri": "https://localhost:8080/"
        },
        "id": "Akn5ZzlzBm_o",
        "outputId": "24f93208-06be-4eeb-fd5c-3530cc97d547"
      },
      "source": [
        "aux =[]\n",
        "\n",
        "for i in csv_files:\n",
        "  aux.append('/content/Labbb/'+i)\n",
        "print(aux)\n",
        "\n"
      ],
      "execution_count": 88,
      "outputs": [
        {
          "output_type": "stream",
          "text": [
            "['/content/Labbb/sample_file_6.csv', '/content/Labbb/sample_file_1.csv', '/content/Labbb/sample_file_7.csv', '/content/Labbb/sample_file_8.csv', '/content/Labbb/sample_file_9.csv', '/content/Labbb/sample_file_4.csv', '/content/Labbb/sample_file_3.csv', '/content/Labbb/sample_file_2.csv', '/content/Labbb/sample_file_0.csv', '/content/Labbb/sample_file_5.csv']\n"
          ],
          "name": "stdout"
        }
      ]
    },
    {
      "cell_type": "code",
      "metadata": {
        "colab": {
          "base_uri": "https://localhost:8080/"
        },
        "id": "hvHVuKlMAfqd",
        "outputId": "7df8df89-c7c1-42c5-fda6-a982c0b934c1"
      },
      "source": [
        "combined_csv = pd.concat([pd.read_csv(f) for f in aux])\n",
        "print(combined_csv.head(10))"
      ],
      "execution_count": 92,
      "outputs": [
        {
          "output_type": "stream",
          "text": [
            "          0         1         2  ...        17        18        19\n",
            "0  0.702566  0.092336  0.245083  ...  0.886644  0.472826  0.551858\n",
            "1  0.177005  0.649551  0.467321  ...  0.773155  0.485385  0.686294\n",
            "2  0.689556  0.445586  0.005691  ...  0.302786  0.051382  0.203699\n",
            "3  0.047188  0.854596  0.833368  ...  0.183948  0.372739  0.739383\n",
            "4  0.936065  0.725831  0.184239  ...  0.538712  0.885516  0.667051\n",
            "0  0.276827  0.260054  0.942397  ...  0.069162  0.952291  0.286542\n",
            "1  0.995885  0.158381  0.244274  ...  0.232135  0.549324  0.572232\n",
            "2  0.641917  0.821055  0.392437  ...  0.430411  0.531757  0.489528\n",
            "3  0.806532  0.569258  0.148175  ...  0.402791  0.685976  0.246594\n",
            "4  0.311185  0.501165  0.365979  ...  0.229109  0.022881  0.479022\n",
            "\n",
            "[10 rows x 20 columns]\n"
          ],
          "name": "stdout"
        }
      ]
    },
    {
      "cell_type": "markdown",
      "metadata": {
        "id": "bSk_8lzAseFz"
      },
      "source": [
        "### 8. Use a list comprehension to select and print the column numbers for columns from the data set whose median is less than 0.48."
      ]
    },
    {
      "cell_type": "code",
      "metadata": {
        "id": "mY_96IszseFz",
        "colab": {
          "base_uri": "https://localhost:8080/",
          "height": 304
        },
        "outputId": "3b90596a-59af-4837-f7a7-fc604bd6326e"
      },
      "source": [
        "pd.DataFrame.describe(combined_csv)\n"
      ],
      "execution_count": 113,
      "outputs": [
        {
          "output_type": "execute_result",
          "data": {
            "text/html": [
              "<div>\n",
              "<style scoped>\n",
              "    .dataframe tbody tr th:only-of-type {\n",
              "        vertical-align: middle;\n",
              "    }\n",
              "\n",
              "    .dataframe tbody tr th {\n",
              "        vertical-align: top;\n",
              "    }\n",
              "\n",
              "    .dataframe thead th {\n",
              "        text-align: right;\n",
              "    }\n",
              "</style>\n",
              "<table border=\"1\" class=\"dataframe\">\n",
              "  <thead>\n",
              "    <tr style=\"text-align: right;\">\n",
              "      <th></th>\n",
              "      <th>0</th>\n",
              "      <th>1</th>\n",
              "      <th>2</th>\n",
              "      <th>3</th>\n",
              "      <th>4</th>\n",
              "      <th>5</th>\n",
              "      <th>6</th>\n",
              "      <th>7</th>\n",
              "      <th>8</th>\n",
              "      <th>9</th>\n",
              "      <th>10</th>\n",
              "      <th>11</th>\n",
              "      <th>12</th>\n",
              "      <th>13</th>\n",
              "      <th>14</th>\n",
              "      <th>15</th>\n",
              "      <th>16</th>\n",
              "      <th>17</th>\n",
              "      <th>18</th>\n",
              "      <th>19</th>\n",
              "    </tr>\n",
              "  </thead>\n",
              "  <tbody>\n",
              "    <tr>\n",
              "      <th>count</th>\n",
              "      <td>50.000000</td>\n",
              "      <td>50.000000</td>\n",
              "      <td>50.000000</td>\n",
              "      <td>50.000000</td>\n",
              "      <td>50.000000</td>\n",
              "      <td>50.000000</td>\n",
              "      <td>50.000000</td>\n",
              "      <td>50.000000</td>\n",
              "      <td>50.000000</td>\n",
              "      <td>50.000000</td>\n",
              "      <td>50.000000</td>\n",
              "      <td>50.000000</td>\n",
              "      <td>50.000000</td>\n",
              "      <td>50.000000</td>\n",
              "      <td>50.000000</td>\n",
              "      <td>50.000000</td>\n",
              "      <td>50.000000</td>\n",
              "      <td>50.000000</td>\n",
              "      <td>50.000000</td>\n",
              "      <td>50.000000</td>\n",
              "    </tr>\n",
              "    <tr>\n",
              "      <th>mean</th>\n",
              "      <td>0.511222</td>\n",
              "      <td>0.476279</td>\n",
              "      <td>0.498441</td>\n",
              "      <td>0.596383</td>\n",
              "      <td>0.492849</td>\n",
              "      <td>0.573385</td>\n",
              "      <td>0.545031</td>\n",
              "      <td>0.579322</td>\n",
              "      <td>0.500246</td>\n",
              "      <td>0.471800</td>\n",
              "      <td>0.517214</td>\n",
              "      <td>0.501971</td>\n",
              "      <td>0.459140</td>\n",
              "      <td>0.605503</td>\n",
              "      <td>0.480913</td>\n",
              "      <td>0.561649</td>\n",
              "      <td>0.520160</td>\n",
              "      <td>0.482214</td>\n",
              "      <td>0.517030</td>\n",
              "      <td>0.536524</td>\n",
              "    </tr>\n",
              "    <tr>\n",
              "      <th>std</th>\n",
              "      <td>0.284799</td>\n",
              "      <td>0.266627</td>\n",
              "      <td>0.302337</td>\n",
              "      <td>0.263785</td>\n",
              "      <td>0.266730</td>\n",
              "      <td>0.271843</td>\n",
              "      <td>0.328852</td>\n",
              "      <td>0.314988</td>\n",
              "      <td>0.294532</td>\n",
              "      <td>0.280118</td>\n",
              "      <td>0.283727</td>\n",
              "      <td>0.270403</td>\n",
              "      <td>0.294527</td>\n",
              "      <td>0.288660</td>\n",
              "      <td>0.300861</td>\n",
              "      <td>0.292937</td>\n",
              "      <td>0.293116</td>\n",
              "      <td>0.264955</td>\n",
              "      <td>0.309916</td>\n",
              "      <td>0.281517</td>\n",
              "    </tr>\n",
              "    <tr>\n",
              "      <th>min</th>\n",
              "      <td>0.033415</td>\n",
              "      <td>0.031410</td>\n",
              "      <td>0.005691</td>\n",
              "      <td>0.043878</td>\n",
              "      <td>0.009400</td>\n",
              "      <td>0.030304</td>\n",
              "      <td>0.007176</td>\n",
              "      <td>0.004030</td>\n",
              "      <td>0.017461</td>\n",
              "      <td>0.037230</td>\n",
              "      <td>0.030394</td>\n",
              "      <td>0.027637</td>\n",
              "      <td>0.015081</td>\n",
              "      <td>0.022525</td>\n",
              "      <td>0.032852</td>\n",
              "      <td>0.041723</td>\n",
              "      <td>0.026496</td>\n",
              "      <td>0.033474</td>\n",
              "      <td>0.016787</td>\n",
              "      <td>0.002596</td>\n",
              "    </tr>\n",
              "    <tr>\n",
              "      <th>25%</th>\n",
              "      <td>0.266798</td>\n",
              "      <td>0.239987</td>\n",
              "      <td>0.199247</td>\n",
              "      <td>0.419087</td>\n",
              "      <td>0.303009</td>\n",
              "      <td>0.402320</td>\n",
              "      <td>0.245527</td>\n",
              "      <td>0.266934</td>\n",
              "      <td>0.298709</td>\n",
              "      <td>0.195050</td>\n",
              "      <td>0.275083</td>\n",
              "      <td>0.254998</td>\n",
              "      <td>0.178968</td>\n",
              "      <td>0.426935</td>\n",
              "      <td>0.216214</td>\n",
              "      <td>0.320944</td>\n",
              "      <td>0.307476</td>\n",
              "      <td>0.273906</td>\n",
              "      <td>0.186165</td>\n",
              "      <td>0.311481</td>\n",
              "    </tr>\n",
              "    <tr>\n",
              "      <th>50%</th>\n",
              "      <td>0.518393</td>\n",
              "      <td>0.498298</td>\n",
              "      <td>0.476174</td>\n",
              "      <td>0.617797</td>\n",
              "      <td>0.544392</td>\n",
              "      <td>0.652570</td>\n",
              "      <td>0.589559</td>\n",
              "      <td>0.652583</td>\n",
              "      <td>0.484164</td>\n",
              "      <td>0.456142</td>\n",
              "      <td>0.529412</td>\n",
              "      <td>0.517590</td>\n",
              "      <td>0.450881</td>\n",
              "      <td>0.693514</td>\n",
              "      <td>0.432621</td>\n",
              "      <td>0.574287</td>\n",
              "      <td>0.527874</td>\n",
              "      <td>0.473843</td>\n",
              "      <td>0.537067</td>\n",
              "      <td>0.556300</td>\n",
              "    </tr>\n",
              "    <tr>\n",
              "      <th>75%</th>\n",
              "      <td>0.733063</td>\n",
              "      <td>0.717636</td>\n",
              "      <td>0.776483</td>\n",
              "      <td>0.809424</td>\n",
              "      <td>0.710250</td>\n",
              "      <td>0.794475</td>\n",
              "      <td>0.851944</td>\n",
              "      <td>0.853544</td>\n",
              "      <td>0.748160</td>\n",
              "      <td>0.681776</td>\n",
              "      <td>0.772171</td>\n",
              "      <td>0.685062</td>\n",
              "      <td>0.680727</td>\n",
              "      <td>0.838788</td>\n",
              "      <td>0.795301</td>\n",
              "      <td>0.805375</td>\n",
              "      <td>0.740071</td>\n",
              "      <td>0.685266</td>\n",
              "      <td>0.802180</td>\n",
              "      <td>0.779484</td>\n",
              "    </tr>\n",
              "    <tr>\n",
              "      <th>max</th>\n",
              "      <td>0.995885</td>\n",
              "      <td>0.955196</td>\n",
              "      <td>0.959355</td>\n",
              "      <td>0.977189</td>\n",
              "      <td>0.911799</td>\n",
              "      <td>0.971609</td>\n",
              "      <td>0.996052</td>\n",
              "      <td>0.986890</td>\n",
              "      <td>0.998528</td>\n",
              "      <td>0.956949</td>\n",
              "      <td>0.977025</td>\n",
              "      <td>0.993481</td>\n",
              "      <td>0.940414</td>\n",
              "      <td>0.995700</td>\n",
              "      <td>0.984182</td>\n",
              "      <td>0.985461</td>\n",
              "      <td>0.992897</td>\n",
              "      <td>0.982256</td>\n",
              "      <td>0.984628</td>\n",
              "      <td>0.968681</td>\n",
              "    </tr>\n",
              "  </tbody>\n",
              "</table>\n",
              "</div>"
            ],
            "text/plain": [
              "               0          1          2  ...         17         18         19\n",
              "count  50.000000  50.000000  50.000000  ...  50.000000  50.000000  50.000000\n",
              "mean    0.511222   0.476279   0.498441  ...   0.482214   0.517030   0.536524\n",
              "std     0.284799   0.266627   0.302337  ...   0.264955   0.309916   0.281517\n",
              "min     0.033415   0.031410   0.005691  ...   0.033474   0.016787   0.002596\n",
              "25%     0.266798   0.239987   0.199247  ...   0.273906   0.186165   0.311481\n",
              "50%     0.518393   0.498298   0.476174  ...   0.473843   0.537067   0.556300\n",
              "75%     0.733063   0.717636   0.776483  ...   0.685266   0.802180   0.779484\n",
              "max     0.995885   0.955196   0.959355  ...   0.982256   0.984628   0.968681\n",
              "\n",
              "[8 rows x 20 columns]"
            ]
          },
          "metadata": {
            "tags": []
          },
          "execution_count": 113
        }
      ]
    },
    {
      "cell_type": "code",
      "metadata": {
        "colab": {
          "base_uri": "https://localhost:8080/"
        },
        "id": "jeLv9U58TzjC",
        "outputId": "68d20c9e-1c6d-458f-bd3e-a2baceb2b886"
      },
      "source": [
        "medians_columns = [0.518393, 0.498298, 0.476174, 0.617797, 0.544392, 0.652570, 0.589559, 0.652583, 0.484164, 0.456142, 0.529412, 0.517590, 0.450881, 0.693514, 0.432621, 0.574287, 0.527874, 0.473843, 0.537067, 0.556300]\n",
        "\n",
        "medians_less =[i for i in medians_columns if i<0.48]\n",
        "\n",
        "print(medians_less)"
      ],
      "execution_count": 120,
      "outputs": [
        {
          "output_type": "stream",
          "text": [
            "[0.476174, 0.456142, 0.450881, 0.432621, 0.473843]\n"
          ],
          "name": "stdout"
        }
      ]
    },
    {
      "cell_type": "markdown",
      "metadata": {
        "id": "HQiqSJGtseFz"
      },
      "source": [
        "### 9. Use a list comprehension to add a new column (20) to the data frame whose values are the values in column 19 minus 0.1. Display the top 10 rows of the resulting data frame."
      ]
    },
    {
      "cell_type": "code",
      "metadata": {
        "id": "tcuDFxopseFz",
        "colab": {
          "base_uri": "https://localhost:8080/",
          "height": 304
        },
        "outputId": "3a6a2a77-4e9e-4446-f8a4-2a88fb1cfe0d"
      },
      "source": [
        "matrix = pd.DataFrame.describe(combined_csv)\n",
        "\n",
        "matrix [\"20\"] = matrix[\"19\"] - 0.1\n",
        "\n",
        "pd.DataFrame.describe(matrix)"
      ],
      "execution_count": 122,
      "outputs": [
        {
          "output_type": "execute_result",
          "data": {
            "text/html": [
              "<div>\n",
              "<style scoped>\n",
              "    .dataframe tbody tr th:only-of-type {\n",
              "        vertical-align: middle;\n",
              "    }\n",
              "\n",
              "    .dataframe tbody tr th {\n",
              "        vertical-align: top;\n",
              "    }\n",
              "\n",
              "    .dataframe thead th {\n",
              "        text-align: right;\n",
              "    }\n",
              "</style>\n",
              "<table border=\"1\" class=\"dataframe\">\n",
              "  <thead>\n",
              "    <tr style=\"text-align: right;\">\n",
              "      <th></th>\n",
              "      <th>0</th>\n",
              "      <th>1</th>\n",
              "      <th>2</th>\n",
              "      <th>3</th>\n",
              "      <th>4</th>\n",
              "      <th>5</th>\n",
              "      <th>6</th>\n",
              "      <th>7</th>\n",
              "      <th>8</th>\n",
              "      <th>9</th>\n",
              "      <th>10</th>\n",
              "      <th>11</th>\n",
              "      <th>12</th>\n",
              "      <th>13</th>\n",
              "      <th>14</th>\n",
              "      <th>15</th>\n",
              "      <th>16</th>\n",
              "      <th>17</th>\n",
              "      <th>18</th>\n",
              "      <th>19</th>\n",
              "      <th>20</th>\n",
              "    </tr>\n",
              "  </thead>\n",
              "  <tbody>\n",
              "    <tr>\n",
              "      <th>count</th>\n",
              "      <td>8.000000</td>\n",
              "      <td>8.000000</td>\n",
              "      <td>8.000000</td>\n",
              "      <td>8.000000</td>\n",
              "      <td>8.000000</td>\n",
              "      <td>8.000000</td>\n",
              "      <td>8.000000</td>\n",
              "      <td>8.000000</td>\n",
              "      <td>8.000000</td>\n",
              "      <td>8.000000</td>\n",
              "      <td>8.000000</td>\n",
              "      <td>8.000000</td>\n",
              "      <td>8.000000</td>\n",
              "      <td>8.000000</td>\n",
              "      <td>8.000000</td>\n",
              "      <td>8.000000</td>\n",
              "      <td>8.000000</td>\n",
              "      <td>8.000000</td>\n",
              "      <td>8.000000</td>\n",
              "      <td>8.000000</td>\n",
              "      <td>8.000000</td>\n",
              "    </tr>\n",
              "    <tr>\n",
              "      <th>mean</th>\n",
              "      <td>6.667947</td>\n",
              "      <td>6.648179</td>\n",
              "      <td>6.652216</td>\n",
              "      <td>6.715943</td>\n",
              "      <td>6.654804</td>\n",
              "      <td>6.712063</td>\n",
              "      <td>6.695518</td>\n",
              "      <td>6.707286</td>\n",
              "      <td>6.667725</td>\n",
              "      <td>6.634883</td>\n",
              "      <td>6.673128</td>\n",
              "      <td>6.656393</td>\n",
              "      <td>6.627467</td>\n",
              "      <td>6.733953</td>\n",
              "      <td>6.655368</td>\n",
              "      <td>6.697797</td>\n",
              "      <td>6.676011</td>\n",
              "      <td>6.649489</td>\n",
              "      <td>6.669222</td>\n",
              "      <td>6.679573</td>\n",
              "      <td>6.579573</td>\n",
              "    </tr>\n",
              "    <tr>\n",
              "      <th>std</th>\n",
              "      <td>17.511305</td>\n",
              "      <td>17.519157</td>\n",
              "      <td>17.517802</td>\n",
              "      <td>17.491890</td>\n",
              "      <td>17.516306</td>\n",
              "      <td>17.493477</td>\n",
              "      <td>17.500577</td>\n",
              "      <td>17.495848</td>\n",
              "      <td>17.511422</td>\n",
              "      <td>17.524496</td>\n",
              "      <td>17.509224</td>\n",
              "      <td>17.515930</td>\n",
              "      <td>17.527506</td>\n",
              "      <td>17.484849</td>\n",
              "      <td>17.516549</td>\n",
              "      <td>17.499272</td>\n",
              "      <td>17.508002</td>\n",
              "      <td>17.518611</td>\n",
              "      <td>17.511105</td>\n",
              "      <td>17.506676</td>\n",
              "      <td>17.506676</td>\n",
              "    </tr>\n",
              "    <tr>\n",
              "      <th>min</th>\n",
              "      <td>0.033415</td>\n",
              "      <td>0.031410</td>\n",
              "      <td>0.005691</td>\n",
              "      <td>0.043878</td>\n",
              "      <td>0.009400</td>\n",
              "      <td>0.030304</td>\n",
              "      <td>0.007176</td>\n",
              "      <td>0.004030</td>\n",
              "      <td>0.017461</td>\n",
              "      <td>0.037230</td>\n",
              "      <td>0.030394</td>\n",
              "      <td>0.027637</td>\n",
              "      <td>0.015081</td>\n",
              "      <td>0.022525</td>\n",
              "      <td>0.032852</td>\n",
              "      <td>0.041723</td>\n",
              "      <td>0.026496</td>\n",
              "      <td>0.033474</td>\n",
              "      <td>0.016787</td>\n",
              "      <td>0.002596</td>\n",
              "      <td>-0.097404</td>\n",
              "    </tr>\n",
              "    <tr>\n",
              "      <th>25%</th>\n",
              "      <td>0.280299</td>\n",
              "      <td>0.259967</td>\n",
              "      <td>0.276565</td>\n",
              "      <td>0.380262</td>\n",
              "      <td>0.293939</td>\n",
              "      <td>0.369701</td>\n",
              "      <td>0.308021</td>\n",
              "      <td>0.302975</td>\n",
              "      <td>0.297665</td>\n",
              "      <td>0.258851</td>\n",
              "      <td>0.281566</td>\n",
              "      <td>0.266551</td>\n",
              "      <td>0.265637</td>\n",
              "      <td>0.392366</td>\n",
              "      <td>0.279699</td>\n",
              "      <td>0.313942</td>\n",
              "      <td>0.303886</td>\n",
              "      <td>0.271668</td>\n",
              "      <td>0.278978</td>\n",
              "      <td>0.303990</td>\n",
              "      <td>0.203990</td>\n",
              "    </tr>\n",
              "    <tr>\n",
              "      <th>50%</th>\n",
              "      <td>0.514808</td>\n",
              "      <td>0.487288</td>\n",
              "      <td>0.487308</td>\n",
              "      <td>0.607090</td>\n",
              "      <td>0.518621</td>\n",
              "      <td>0.612977</td>\n",
              "      <td>0.567295</td>\n",
              "      <td>0.615953</td>\n",
              "      <td>0.492205</td>\n",
              "      <td>0.463971</td>\n",
              "      <td>0.523313</td>\n",
              "      <td>0.509781</td>\n",
              "      <td>0.455011</td>\n",
              "      <td>0.649508</td>\n",
              "      <td>0.456767</td>\n",
              "      <td>0.567968</td>\n",
              "      <td>0.524017</td>\n",
              "      <td>0.478029</td>\n",
              "      <td>0.527048</td>\n",
              "      <td>0.546412</td>\n",
              "      <td>0.446412</td>\n",
              "    </tr>\n",
              "    <tr>\n",
              "      <th>75%</th>\n",
              "      <td>0.798769</td>\n",
              "      <td>0.777026</td>\n",
              "      <td>0.822201</td>\n",
              "      <td>0.851365</td>\n",
              "      <td>0.760638</td>\n",
              "      <td>0.838758</td>\n",
              "      <td>0.887971</td>\n",
              "      <td>0.886881</td>\n",
              "      <td>0.810752</td>\n",
              "      <td>0.750569</td>\n",
              "      <td>0.823385</td>\n",
              "      <td>0.762167</td>\n",
              "      <td>0.745649</td>\n",
              "      <td>0.878016</td>\n",
              "      <td>0.842521</td>\n",
              "      <td>0.850396</td>\n",
              "      <td>0.803277</td>\n",
              "      <td>0.759513</td>\n",
              "      <td>0.847792</td>\n",
              "      <td>0.826784</td>\n",
              "      <td>0.726784</td>\n",
              "    </tr>\n",
              "    <tr>\n",
              "      <th>max</th>\n",
              "      <td>50.000000</td>\n",
              "      <td>50.000000</td>\n",
              "      <td>50.000000</td>\n",
              "      <td>50.000000</td>\n",
              "      <td>50.000000</td>\n",
              "      <td>50.000000</td>\n",
              "      <td>50.000000</td>\n",
              "      <td>50.000000</td>\n",
              "      <td>50.000000</td>\n",
              "      <td>50.000000</td>\n",
              "      <td>50.000000</td>\n",
              "      <td>50.000000</td>\n",
              "      <td>50.000000</td>\n",
              "      <td>50.000000</td>\n",
              "      <td>50.000000</td>\n",
              "      <td>50.000000</td>\n",
              "      <td>50.000000</td>\n",
              "      <td>50.000000</td>\n",
              "      <td>50.000000</td>\n",
              "      <td>50.000000</td>\n",
              "      <td>49.900000</td>\n",
              "    </tr>\n",
              "  </tbody>\n",
              "</table>\n",
              "</div>"
            ],
            "text/plain": [
              "               0          1          2  ...         18         19         20\n",
              "count   8.000000   8.000000   8.000000  ...   8.000000   8.000000   8.000000\n",
              "mean    6.667947   6.648179   6.652216  ...   6.669222   6.679573   6.579573\n",
              "std    17.511305  17.519157  17.517802  ...  17.511105  17.506676  17.506676\n",
              "min     0.033415   0.031410   0.005691  ...   0.016787   0.002596  -0.097404\n",
              "25%     0.280299   0.259967   0.276565  ...   0.278978   0.303990   0.203990\n",
              "50%     0.514808   0.487288   0.487308  ...   0.527048   0.546412   0.446412\n",
              "75%     0.798769   0.777026   0.822201  ...   0.847792   0.826784   0.726784\n",
              "max    50.000000  50.000000  50.000000  ...  50.000000  50.000000  49.900000\n",
              "\n",
              "[8 rows x 21 columns]"
            ]
          },
          "metadata": {
            "tags": []
          },
          "execution_count": 122
        }
      ]
    },
    {
      "cell_type": "markdown",
      "metadata": {
        "id": "ZXQ_KAdUseF0"
      },
      "source": [
        "### 10. Use a list comprehension to extract and print all values from the data set that are between 0.7 and 0.75."
      ]
    },
    {
      "cell_type": "code",
      "metadata": {
        "id": "xJ1Da-loseF0"
      },
      "source": [
        ""
      ],
      "execution_count": null,
      "outputs": []
    }
  ]
}