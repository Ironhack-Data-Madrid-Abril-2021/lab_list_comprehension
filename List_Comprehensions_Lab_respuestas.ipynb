{
  "nbformat": 4,
  "nbformat_minor": 0,
  "metadata": {
    "kernelspec": {
      "display_name": "Python 3",
      "language": "python",
      "name": "python3"
    },
    "language_info": {
      "codemirror_mode": {
        "name": "ipython",
        "version": 3
      },
      "file_extension": ".py",
      "mimetype": "text/x-python",
      "name": "python",
      "nbconvert_exporter": "python",
      "pygments_lexer": "ipython3",
      "version": "3.8.5"
    },
    "colab": {
      "name": "List Comprehensions Lab.ipynb",
      "provenance": []
    }
  },
  "cells": [
    {
      "cell_type": "markdown",
      "metadata": {
        "id": "S7KWlTEoB6NG"
      },
      "source": [
        "# List Comprehensions Lab\n",
        "\n",
        "Complete the following set of exercises to solidify your knowledge of list comprehensions."
      ]
    },
    {
      "cell_type": "code",
      "metadata": {
        "id": "uNSnX_LEB6NU"
      },
      "source": [
        "import os\n",
        "import numpy as np\n",
        "import pandas as pd"
      ],
      "execution_count": null,
      "outputs": []
    },
    {
      "cell_type": "markdown",
      "metadata": {
        "id": "zPQIee4WB6NV"
      },
      "source": [
        "### 1. Use a list comprehension to create and print a list of consecutive integers starting with 1 and ending with 50."
      ]
    },
    {
      "cell_type": "code",
      "metadata": {
        "colab": {
          "base_uri": "https://localhost:8080/"
        },
        "id": "lJ2KzWBvB6NW",
        "outputId": "1e8a251b-2866-4479-f28f-3711a2a8c0df"
      },
      "source": [
        ">>> list = [i for i in range(51)]\n",
        "print (list)\n",
        "\n",
        "\n"
      ],
      "execution_count": null,
      "outputs": [
        {
          "output_type": "stream",
          "text": [
            "[0, 1, 2, 3, 4, 5, 6, 7, 8, 9, 10, 11, 12, 13, 14, 15, 16, 17, 18, 19, 20, 21, 22, 23, 24, 25, 26, 27, 28, 29, 30, 31, 32, 33, 34, 35, 36, 37, 38, 39, 40, 41, 42, 43, 44, 45, 46, 47, 48, 49, 50]\n"
          ],
          "name": "stdout"
        }
      ]
    },
    {
      "cell_type": "markdown",
      "metadata": {
        "id": "dtQGcomtB6NW"
      },
      "source": [
        "### 2. Use a list comprehension to create and print a list of even numbers starting with 2 and ending with 200."
      ]
    },
    {
      "cell_type": "code",
      "metadata": {
        "colab": {
          "base_uri": "https://localhost:8080/"
        },
        "id": "yvJ2V2sDB6NX",
        "outputId": "f2dd5c96-56d9-49e4-bfad-915de4e3a0ec"
      },
      "source": [
        "list = [i for i in range(2,201)]\n",
        "for num in list:\n",
        "   if num % 2 == 0:\n",
        "      print(num, end = \" \")"
      ],
      "execution_count": null,
      "outputs": [
        {
          "output_type": "stream",
          "text": [
            "2 4 6 8 10 12 14 16 18 20 22 24 26 28 30 32 34 36 38 40 42 44 46 48 50 52 54 56 58 60 62 64 66 68 70 72 74 76 78 80 82 84 86 88 90 92 94 96 98 100 102 104 106 108 110 112 114 116 118 120 122 124 126 128 130 132 134 136 138 140 142 144 146 148 150 152 154 156 158 160 162 164 166 168 170 172 174 176 178 180 182 184 186 188 190 192 194 196 198 200 "
          ],
          "name": "stdout"
        }
      ]
    },
    {
      "cell_type": "markdown",
      "metadata": {
        "id": "tHp0yr3fB6NX"
      },
      "source": [
        "### 3. Use a list comprehension to create and print a list containing all elements of the 10 x 4 Numpy array below."
      ]
    },
    {
      "cell_type": "code",
      "metadata": {
        "id": "CsHzN35MfIEK"
      },
      "source": [
        "a = np.array([[0.84062117, 0.48006452, 0.7876326 , 0.77109654],\n",
        "       [0.44409793, 0.09014516, 0.81835917, 0.87645456],\n",
        "       [0.7066597 , 0.09610873, 0.41247947, 0.57433389],\n",
        "       [0.29960807, 0.42315023, 0.34452557, 0.4751035 ],\n",
        "       [0.17003563, 0.46843998, 0.92796258, 0.69814654],\n",
        "       [0.41290051, 0.19561071, 0.16284783, 0.97016248],\n",
        "       [0.71725408, 0.87702738, 0.31244595, 0.76615487],\n",
        "       [0.20754036, 0.57871812, 0.07214068, 0.40356048],\n",
        "       [0.12149553, 0.53222417, 0.9976855 , 0.12536346],\n",
        "       [0.80930099, 0.50962849, 0.94555126, 0.33364763]])"
      ],
      "execution_count": null,
      "outputs": []
    },
    {
      "cell_type": "code",
      "metadata": {
        "colab": {
          "base_uri": "https://localhost:8080/"
        },
        "id": "x5YOo_xxfF1P",
        "outputId": "2fd476dc-3785-40b0-c6d1-9880161a3f08"
      },
      "source": [
        "list1= []\n",
        "row_count = len(a)\n",
        "print (row_count)\n",
        "column_count= len(a[1])\n",
        "print (column_count)\n",
        "for i in range(0, row_count):\n",
        "  for j in range(0,column_count):\n",
        "    if a[i][j]>=0:\n",
        "      list1.append(a[i][j])\n",
        "print(list1)\n"
      ],
      "execution_count": null,
      "outputs": [
        {
          "output_type": "stream",
          "text": [
            "10\n",
            "4\n",
            "[0.84062117, 0.48006452, 0.7876326, 0.77109654, 0.44409793, 0.09014516, 0.81835917, 0.87645456, 0.7066597, 0.09610873, 0.41247947, 0.57433389, 0.29960807, 0.42315023, 0.34452557, 0.4751035, 0.17003563, 0.46843998, 0.92796258, 0.69814654, 0.41290051, 0.19561071, 0.16284783, 0.97016248, 0.71725408, 0.87702738, 0.31244595, 0.76615487, 0.20754036, 0.57871812, 0.07214068, 0.40356048, 0.12149553, 0.53222417, 0.9976855, 0.12536346, 0.80930099, 0.50962849, 0.94555126, 0.33364763]\n"
          ],
          "name": "stdout"
        }
      ]
    },
    {
      "cell_type": "markdown",
      "metadata": {
        "id": "0v9tHEFrB6NZ"
      },
      "source": [
        "### 4. Add a condition to the list comprehension above so that only values greater than or equal to 0.5 are printed."
      ]
    },
    {
      "cell_type": "code",
      "metadata": {
        "colab": {
          "base_uri": "https://localhost:8080/"
        },
        "id": "2GdjpsCIGlwg",
        "outputId": "2d80c0fd-bb7c-4944-a66b-e68926c3fa16"
      },
      "source": [
        " if a[i][j]>=0.5:\n",
        "      list1.append(a[i][j])\n",
        "print(list1)"
      ],
      "execution_count": null,
      "outputs": [
        {
          "output_type": "stream",
          "text": [
            "[0.84062117, 0.48006452, 0.7876326, 0.77109654, 0.44409793, 0.09014516, 0.81835917, 0.87645456, 0.7066597, 0.09610873, 0.41247947, 0.57433389, 0.29960807, 0.42315023, 0.34452557, 0.4751035, 0.17003563, 0.46843998, 0.92796258, 0.69814654, 0.41290051, 0.19561071, 0.16284783, 0.97016248, 0.71725408, 0.87702738, 0.31244595, 0.76615487, 0.20754036, 0.57871812, 0.07214068, 0.40356048, 0.12149553, 0.53222417, 0.9976855, 0.12536346, 0.80930099, 0.50962849, 0.94555126, 0.33364763]\n"
          ],
          "name": "stdout"
        }
      ]
    },
    {
      "cell_type": "code",
      "metadata": {
        "id": "4CXOqlS_B6NZ"
      },
      "source": [
        ""
      ],
      "execution_count": null,
      "outputs": []
    },
    {
      "cell_type": "markdown",
      "metadata": {
        "id": "LQMeIWRcB6NZ"
      },
      "source": [
        "### 5. Use a list comprehension to create and print a list containing all elements of the 5 x 2 x 3 Numpy array below."
      ]
    },
    {
      "cell_type": "code",
      "metadata": {
        "id": "Ot2Le9LIB6Na"
      },
      "source": [
        "b = np.array([[[0.55867166, 0.06210792, 0.08147297],\n",
        "        [0.82579068, 0.91512478, 0.06833034]],\n",
        "\n",
        "       [[0.05440634, 0.65857693, 0.30296619],\n",
        "        [0.06769833, 0.96031863, 0.51293743]],\n",
        "\n",
        "       [[0.09143215, 0.71893382, 0.45850679],\n",
        "        [0.58256464, 0.59005654, 0.56266457]],\n",
        "\n",
        "       [[0.71600294, 0.87392666, 0.11434044],\n",
        "        [0.8694668 , 0.65669313, 0.10708681]],\n",
        "\n",
        "       [[0.07529684, 0.46470767, 0.47984544],\n",
        "        [0.65368638, 0.14901286, 0.23760688]]])\n"
      ],
      "execution_count": null,
      "outputs": []
    },
    {
      "cell_type": "code",
      "metadata": {
        "colab": {
          "base_uri": "https://localhost:8080/"
        },
        "id": "nKJxc9KnB6Na",
        "outputId": "2059cba7-120f-4bf7-8027-aaf829b920a7"
      },
      "source": [
        "list2= []\n",
        "row_count = len(b)\n",
        "print (row_count)\n",
        "column_count= len(b[1])\n",
        "print (column_count)\n",
        "for i in range(0, row_count):\n",
        "  for j in range(0,column_count):\n",
        "    if a[i][j]>=0:\n",
        "      list2.append(a[i][j])\n",
        "print(list2)"
      ],
      "execution_count": null,
      "outputs": [
        {
          "output_type": "stream",
          "text": [
            "5\n",
            "2\n",
            "[0.84062117, 0.48006452, 0.44409793, 0.09014516, 0.7066597, 0.09610873, 0.29960807, 0.42315023, 0.17003563, 0.46843998]\n"
          ],
          "name": "stdout"
        }
      ]
    },
    {
      "cell_type": "markdown",
      "metadata": {
        "id": "g3HiHu72B6Nb"
      },
      "source": [
        "### 5. Add a condition to the list comprehension above so that the last value in each subarray is printed, but only if it is less than or equal to 0.5."
      ]
    },
    {
      "cell_type": "code",
      "metadata": {
        "colab": {
          "base_uri": "https://localhost:8080/"
        },
        "id": "S3fXzwQrB6Nb",
        "outputId": "f1c4f4f5-ad2d-4cfe-b750-60cf00b62874"
      },
      "source": [
        "\n",
        "\n",
        "for i in range(0, row_count):\n",
        "  for j in range(0,column_count):\n",
        "    print(j)\n",
        "    if(a[i][-1])>=0.5:\n",
        "      print(a[i][-1])\n"
      ],
      "execution_count": null,
      "outputs": [
        {
          "output_type": "stream",
          "text": [
            "0\n",
            "0.77109654\n",
            "1\n",
            "0.77109654\n",
            "0\n",
            "0.87645456\n",
            "1\n",
            "0.87645456\n",
            "0\n",
            "0.57433389\n",
            "1\n",
            "0.57433389\n",
            "0\n",
            "1\n",
            "0\n",
            "0.69814654\n",
            "1\n",
            "0.69814654\n"
          ],
          "name": "stdout"
        }
      ]
    },
    {
      "cell_type": "markdown",
      "metadata": {
        "id": "P90yTbYgB6Nb"
      },
      "source": [
        "### 6. Use a list comprehension to select and print the names of all CSV files in the */data* directory."
      ]
    },
    {
      "cell_type": "code",
      "metadata": {
        "colab": {
          "base_uri": "https://localhost:8080/"
        },
        "id": "4onTEU15B6Nc",
        "outputId": "43e47baf-57ff-49b7-a61f-2ac7f67d64b8"
      },
      "source": [
        "lista6=[]\n",
        "for f_name in os.listdir(\"/bin/A1\"):\n",
        "  if f_name.endswith(\"csv\"):\n",
        "    lista6.append(f_name)\n",
        "print(lista6)\n"
      ],
      "execution_count": null,
      "outputs": [
        {
          "output_type": "stream",
          "text": [
            "['sample_file_6.csv', 'sample_file_1.csv', 'sample_file_7.csv', 'sample_file_8.csv', 'combined_csv.csv', 'sample_file_9.csv', 'sample_file_4.csv', 'sample_file_3.csv', 'sample_file_2.csv', 'sample_file_5.csv']\n"
          ],
          "name": "stdout"
        }
      ]
    },
    {
      "cell_type": "markdown",
      "metadata": {
        "id": "Rc_nwBl3B6Nc"
      },
      "source": [
        "### 7. Use a list comprehension and the Pandas `read_csv` and `concat` methods to read all CSV files in the */data* directory and combine them into a single data frame. Display the top 10 rows of the resulting data frame."
      ]
    },
    {
      "cell_type": "code",
      "metadata": {
        "colab": {
          "base_uri": "https://localhost:8080/"
        },
        "id": "X_HzBY_z5HKU",
        "outputId": "2658c7ee-37a1-4685-ec53-7d41e77bda36"
      },
      "source": [
        "df=pd.read_csv(\"/bin/A1/sample_file_1.csv\")\n",
        "df.head\n",
        "\n",
        "for f_name in os.listdir(\"/bin/A1\"):\n",
        "  if f_name.endswith(\"csv\"):\n"
      ],
      "execution_count": null,
      "outputs": [
        {
          "output_type": "execute_result",
          "data": {
            "text/plain": [
              "<bound method NDFrame.head of           0         1         2  ...        17        18        19\n",
              "0  0.276827  0.260054  0.942397  ...  0.069162  0.952291  0.286542\n",
              "1  0.995885  0.158381  0.244274  ...  0.232135  0.549324  0.572232\n",
              "2  0.641917  0.821055  0.392437  ...  0.430411  0.531757  0.489528\n",
              "3  0.806532  0.569258  0.148175  ...  0.402791  0.685976  0.246594\n",
              "4  0.311185  0.501165  0.365979  ...  0.229109  0.022881  0.479022\n",
              "\n",
              "[5 rows x 20 columns]>"
            ]
          },
          "metadata": {
            "tags": []
          },
          "execution_count": 161
        }
      ]
    },
    {
      "cell_type": "code",
      "metadata": {
        "colab": {
          "base_uri": "https://localhost:8080/"
        },
        "id": "Neg1hDgF_hu2",
        "outputId": "a009b31b-d6db-4a48-b850-27e12a61b91c"
      },
      "source": [
        "paths=[]\n",
        "for i in lista6: \n",
        "  paths.append(\"/bin/A1/\" + i)\n",
        "print(paths)"
      ],
      "execution_count": null,
      "outputs": [
        {
          "output_type": "stream",
          "text": [
            "['/bin/A1/sample_file_6.csv', '/bin/A1/sample_file_1.csv', '/bin/A1/sample_file_7.csv', '/bin/A1/sample_file_8.csv', '/bin/A1/combined_csv.csv', '/bin/A1/sample_file_9.csv', '/bin/A1/sample_file_4.csv', '/bin/A1/sample_file_3.csv', '/bin/A1/sample_file_2.csv', '/bin/A1/sample_file_5.csv']\n"
          ],
          "name": "stdout"
        }
      ]
    },
    {
      "cell_type": "code",
      "metadata": {
        "colab": {
          "base_uri": "https://localhost:8080/"
        },
        "id": "ggpvoH75DyeF",
        "outputId": "dd546a2a-13ed-472d-ad62-569f6d617504"
      },
      "source": [
        "combined_csv=pd.concat(pd.read_csv(f) for f in paths)\n",
        "print(combined_csv.head(10))"
      ],
      "execution_count": null,
      "outputs": [
        {
          "output_type": "stream",
          "text": [
            "          0         1         2  ...        17        18        19\n",
            "0  0.702566  0.092336  0.245083  ...  0.886644  0.472826  0.551858\n",
            "1  0.177005  0.649551  0.467321  ...  0.773155  0.485385  0.686294\n",
            "2  0.689556  0.445586  0.005691  ...  0.302786  0.051382  0.203699\n",
            "3  0.047188  0.854596  0.833368  ...  0.183948  0.372739  0.739383\n",
            "4  0.936065  0.725831  0.184239  ...  0.538712  0.885516  0.667051\n",
            "0  0.276827  0.260054  0.942397  ...  0.069162  0.952291  0.286542\n",
            "1  0.995885  0.158381  0.244274  ...  0.232135  0.549324  0.572232\n",
            "2  0.641917  0.821055  0.392437  ...  0.430411  0.531757  0.489528\n",
            "3  0.806532  0.569258  0.148175  ...  0.402791  0.685976  0.246594\n",
            "4  0.311185  0.501165  0.365979  ...  0.229109  0.022881  0.479022\n",
            "\n",
            "[10 rows x 20 columns]\n"
          ],
          "name": "stdout"
        }
      ]
    },
    {
      "cell_type": "markdown",
      "metadata": {
        "id": "32oBO8AOB6Nd"
      },
      "source": [
        "### 8. Use a list comprehension to select and print the column numbers for columns from the data set whose median is less than 0.48."
      ]
    },
    {
      "cell_type": "code",
      "metadata": {
        "colab": {
          "base_uri": "https://localhost:8080/",
          "height": 131
        },
        "id": "awLpzvNHLYqL",
        "outputId": "72d27c86-e9e7-405c-ca3e-ece949e58901"
      },
      "source": [
        "combined_csv=pd.concat(pd.read_csv(f) for f in paths)\n",
        "  for i in range (20):\n",
        "    print(combined_csv[str(i).median()])\n"
      ],
      "execution_count": null,
      "outputs": [
        {
          "output_type": "error",
          "ename": "IndentationError",
          "evalue": "ignored",
          "traceback": [
            "\u001b[0;36m  File \u001b[0;32m\"<ipython-input-221-a16c3abd2911>\"\u001b[0;36m, line \u001b[0;32m2\u001b[0m\n\u001b[0;31m    for i in range (20):\u001b[0m\n\u001b[0m    ^\u001b[0m\n\u001b[0;31mIndentationError\u001b[0m\u001b[0;31m:\u001b[0m unexpected indent\n"
          ]
        }
      ]
    },
    {
      "cell_type": "code",
      "metadata": {
        "id": "XNs8dk8AB6Nd"
      },
      "source": [
        ""
      ],
      "execution_count": null,
      "outputs": []
    },
    {
      "cell_type": "markdown",
      "metadata": {
        "id": "BVue_JbfB6Nd"
      },
      "source": [
        "### 9. Use a list comprehension to add a new column (20) to the data frame whose values are the values in column 19 minus 0.1. Display the top 10 rows of the resulting data frame."
      ]
    },
    {
      "cell_type": "code",
      "metadata": {
        "id": "hFactkbrB6Ne"
      },
      "source": [
        ""
      ],
      "execution_count": null,
      "outputs": []
    },
    {
      "cell_type": "markdown",
      "metadata": {
        "id": "1hwAUGPiB6Ne"
      },
      "source": [
        "### 10. Use a list comprehension to extract and print all values from the data set that are between 0.7 and 0.75."
      ]
    },
    {
      "cell_type": "code",
      "metadata": {
        "id": "XHpOpUORB6Ne"
      },
      "source": [
        ""
      ],
      "execution_count": null,
      "outputs": []
    }
  ]
}