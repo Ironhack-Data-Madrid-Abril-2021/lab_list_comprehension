{
 "cells": [
  {
   "cell_type": "code",
   "execution_count": 10,
   "id": "64b73dd9",
   "metadata": {},
   "outputs": [
    {
     "name": "stdout",
     "output_type": "stream",
     "text": [
      "Collecting numpy\n",
      "  Downloading numpy-1.20.2-cp39-cp39-win_amd64.whl (13.7 MB)\n",
      "Installing collected packages: numpy\n",
      "Successfully installed numpy-1.20.2\n"
     ]
    },
    {
     "name": "stderr",
     "output_type": "stream",
     "text": [
      "WARNING: You are using pip version 20.2.3; however, version 21.1 is available.\n",
      "You should consider upgrading via the 'c:\\users\\atefe\\appdata\\local\\programs\\python\\python39\\python.exe -m pip install --upgrade pip' command.\n"
     ]
    }
   ],
   "source": [
    "!pip install numpy"
   ]
  },
  {
   "cell_type": "code",
   "execution_count": 11,
   "id": "bad9f41f",
   "metadata": {},
   "outputs": [
    {
     "name": "stdout",
     "output_type": "stream",
     "text": [
      "Collecting pandas\n",
      "  Downloading pandas-1.2.4-cp39-cp39-win_amd64.whl (9.3 MB)\n",
      "Requirement already satisfied: numpy>=1.16.5 in c:\\users\\atefe\\appdata\\local\\programs\\python\\python39\\lib\\site-packages (from pandas) (1.20.2)\n",
      "Requirement already satisfied: python-dateutil>=2.7.3 in c:\\users\\atefe\\appdata\\local\\programs\\python\\python39\\lib\\site-packages (from pandas) (2.8.1)\n",
      "Collecting pytz>=2017.3\n",
      "  Downloading pytz-2021.1-py2.py3-none-any.whl (510 kB)\n",
      "Requirement already satisfied: six>=1.5 in c:\\users\\atefe\\appdata\\local\\programs\\python\\python39\\lib\\site-packages (from python-dateutil>=2.7.3->pandas) (1.15.0)\n",
      "Installing collected packages: pytz, pandas\n",
      "Successfully installed pandas-1.2.4 pytz-2021.1\n"
     ]
    },
    {
     "name": "stderr",
     "output_type": "stream",
     "text": [
      "WARNING: You are using pip version 20.2.3; however, version 21.1 is available.\n",
      "You should consider upgrading via the 'c:\\users\\atefe\\appdata\\local\\programs\\python\\python39\\python.exe -m pip install --upgrade pip' command.\n"
     ]
    }
   ],
   "source": [
    "!pip install pandas"
   ]
  },
  {
   "cell_type": "code",
   "execution_count": 12,
   "id": "14406797",
   "metadata": {},
   "outputs": [],
   "source": [
    "import os\n",
    "import numpy as np\n",
    "import pandas as pd"
   ]
  },
  {
   "cell_type": "code",
   "execution_count": 21,
   "id": "2d2f94a9",
   "metadata": {},
   "outputs": [
    {
     "name": "stdout",
     "output_type": "stream",
     "text": [
      "[1, 2, 3, 4, 5, 6, 7, 8, 9, 10, 11, 12, 13, 14, 15, 16, 17, 18, 19, 20, 21, 22, 23, 24, 25, 26, 27, 28, 29, 30, 31, 32, 33, 34, 35, 36, 37, 38, 39, 40, 41, 42, 43, 44, 45, 46, 47, 48, 49, 50]\n"
     ]
    }
   ],
   "source": [
    "# 1. Use a list comprehension to create and print a list of consecutive integers starting with 1 and ending with 50\n",
    "lst1=[i+1 for i in range(50)]\n",
    "print(lst1)"
   ]
  },
  {
   "cell_type": "code",
   "execution_count": 37,
   "id": "ea243f42",
   "metadata": {
    "scrolled": true
   },
   "outputs": [
    {
     "name": "stdout",
     "output_type": "stream",
     "text": [
      "[2, 4, 6, 8, 10, 12, 14, 16, 18, 20, 22, 24, 26, 28, 30, 32, 34, 36, 38, 40, 42, 44, 46, 48, 50, 52, 54, 56, 58, 60, 62, 64, 66, 68, 70, 72, 74, 76, 78, 80, 82, 84, 86, 88, 90, 92, 94, 96, 98, 100, 102, 104, 106, 108, 110, 112, 114, 116, 118, 120, 122, 124, 126, 128, 130, 132, 134, 136, 138, 140, 142, 144, 146, 148, 150, 152, 154, 156, 158, 160, 162, 164, 166, 168, 170, 172, 174, 176, 178, 180, 182, 184, 186, 188, 190, 192, 194, 196, 198, 200]\n"
     ]
    }
   ],
   "source": [
    "#2. Use a list comprehension to create and print a list of even numbers starting with 2 and ending with 200.\n",
    "lsteven=[]\n",
    "for i in range(200):\n",
    "    if i%2 == 0:\n",
    "        lsteven.append(i+2)\n",
    "print(lsteven)"
   ]
  },
  {
   "cell_type": "code",
   "execution_count": 95,
   "id": "a30567b4",
   "metadata": {},
   "outputs": [
    {
     "name": "stdout",
     "output_type": "stream",
     "text": [
      "[0.84062117, 0.48006452, 0.7876326, 0.77109654, 0.44409793, 0.09014516, 0.81835917, 0.87645456, 0.7066597, 0.09610873, 0.41247947, 0.57433389, 0.29960807, 0.42315023, 0.34452557, 0.4751035, 0.17003563, 0.46843998, 0.92796258, 0.69814654, 0.41290051, 0.19561071, 0.16284783, 0.97016248, 0.71725408, 0.87702738, 0.31244595, 0.76615487, 0.20754036, 0.57871812, 0.07214068, 0.40356048, 0.12149553, 0.53222417, 0.9976855, 0.12536346, 0.80930099, 0.50962849, 0.94555126, 0.33364763]\n"
     ]
    }
   ],
   "source": [
    "# 3.Use a list comprehension to create and print a list containing all elements of the 10 x 4 Numpy array below\n",
    "a = np.array([[0.84062117, 0.48006452, 0.7876326 , 0.77109654],\n",
    "       [0.44409793, 0.09014516, 0.81835917, 0.87645456],\n",
    "       [0.7066597 , 0.09610873, 0.41247947, 0.57433389],\n",
    "       [0.29960807, 0.42315023, 0.34452557, 0.4751035 ],\n",
    "       [0.17003563, 0.46843998, 0.92796258, 0.69814654],\n",
    "       [0.41290051, 0.19561071, 0.16284783, 0.97016248],\n",
    "       [0.71725408, 0.87702738, 0.31244595, 0.76615487],\n",
    "       [0.20754036, 0.57871812, 0.07214068, 0.40356048],\n",
    "       [0.12149553, 0.53222417, 0.9976855 , 0.12536346],\n",
    "       [0.80930099, 0.50962849, 0.94555126, 0.33364763]])\n",
    "ls = a.tolist()\n",
    "ls2 = []\n",
    "for i in ls:\n",
    "    ls2.extend(i)\n",
    "print(ls2)"
   ]
  },
  {
   "cell_type": "code",
   "execution_count": 117,
   "id": "ba062d79",
   "metadata": {},
   "outputs": [
    {
     "name": "stdout",
     "output_type": "stream",
     "text": [
      "[0.84062117, 0.84062117, 0.7876326, 0.77109654, 0.77109654, 0.77109654, 0.81835917, 0.87645456, 0.7066597, 0.7066597, 0.7066597, 0.57433389, 0.57433389, 0.57433389, 0.57433389, 0.57433389, 0.57433389, 0.57433389, 0.92796258, 0.69814654, 0.69814654, 0.69814654, 0.69814654, 0.97016248, 0.71725408, 0.87702738, 0.87702738, 0.76615487, 0.76615487, 0.57871812, 0.57871812, 0.57871812, 0.57871812, 0.53222417, 0.9976855, 0.9976855, 0.80930099, 0.50962849, 0.94555126, 0.94555126]\n"
     ]
    }
   ],
   "source": [
    "#4. Add a condition to the list comprehension above so that only values greater than or equal to 0.5 are printed\n",
    "ls3=[]\n",
    "for i in ls2:\n",
    "    if i >= 0.5:\n",
    "        i2=i\n",
    "    ls3.append(i2)\n",
    "print(ls3)\n",
    "\n",
    "#duda porque tengo que definir el variable i2 para que funcione?"
   ]
  },
  {
   "cell_type": "code",
   "execution_count": 127,
   "id": "16464084",
   "metadata": {},
   "outputs": [
    {
     "name": "stdout",
     "output_type": "stream",
     "text": [
      "[0.55867166, 0.06210792, 0.08147297, 0.82579068, 0.91512478, 0.06833034, 0.05440634, 0.65857693, 0.30296619, 0.06769833, 0.96031863, 0.51293743, 0.09143215, 0.71893382, 0.45850679, 0.58256464, 0.59005654, 0.56266457, 0.71600294, 0.87392666, 0.11434044, 0.8694668, 0.65669313, 0.10708681, 0.07529684, 0.46470767, 0.47984544, 0.65368638, 0.14901286, 0.23760688]\n"
     ]
    }
   ],
   "source": [
    "#5. Use a list comprehension to create and print a list containing all elements of the 5 x 2 x 3 Numpy array below.\n",
    "\n",
    "b = np.array([[[0.55867166, 0.06210792, 0.08147297],\n",
    "        [0.82579068, 0.91512478, 0.06833034]],\n",
    "\n",
    "       [[0.05440634, 0.65857693, 0.30296619],\n",
    "        [0.06769833, 0.96031863, 0.51293743]],\n",
    "\n",
    "       [[0.09143215, 0.71893382, 0.45850679],\n",
    "        [0.58256464, 0.59005654, 0.56266457]],\n",
    "\n",
    "       [[0.71600294, 0.87392666, 0.11434044],\n",
    "        [0.8694668 , 0.65669313, 0.10708681]],\n",
    "\n",
    "       [[0.07529684, 0.46470767, 0.47984544],\n",
    "        [0.65368638, 0.14901286, 0.23760688]]])\n",
    "ls = b.tolist()\n",
    "ls2 = []\n",
    "for i in ls:\n",
    "    ls2.extend(i)\n",
    "ls3=[]\n",
    "for i in ls2:\n",
    "    ls3.extend(i)\n",
    "print(ls3)"
   ]
  },
  {
   "cell_type": "code",
   "execution_count": 142,
   "id": "4fa1726b",
   "metadata": {},
   "outputs": [
    {
     "name": "stdout",
     "output_type": "stream",
     "text": [
      "['sample_file_0.csv', 'sample_file_1.csv', 'sample_file_2.csv', 'sample_file_3.csv', 'sample_file_4.csv', 'sample_file_5.csv', 'sample_file_6.csv', 'sample_file_7.csv', 'sample_file_8.csv', 'sample_file_9.csv']\n"
     ]
    }
   ],
   "source": [
    "#6. Use a 6. Use a list comprehension to select and print the names of all CSV files in the /data directory.\n",
    "Excels = os.listdir(\"lab_list_comprehension\\data\")\n",
    "newlist = []\n",
    "for names in Excels:\n",
    "    if names.endswith(\".csv\"):\n",
    "        newlist.append(names)\n",
    "print(newlist)"
   ]
  },
  {
   "cell_type": "code",
   "execution_count": 152,
   "id": "a43785c0",
   "metadata": {},
   "outputs": [],
   "source": [
    "#7. Use a list comprehension and the Pandas read_csv and concat methods to read all CSV files in the /data directory and combine them into a single data frame. Display the top 10 rows of the resulting data frame.\n",
    "import glob"
   ]
  },
  {
   "cell_type": "code",
   "execution_count": 168,
   "id": "32102331",
   "metadata": {},
   "outputs": [
    {
     "name": "stdout",
     "output_type": "stream",
     "text": [
      "          0         1        10        11        12        13        14  \\\n",
      "0  0.734751  0.195362  0.311608  0.178356  0.182922  0.147631  0.391188   \n",
      "1  0.772607  0.445391  0.081595  0.471474  0.267443  0.453351  0.800716   \n",
      "2  0.226428  0.268764  0.764350  0.650973  0.565705  0.691784  0.265223   \n",
      "3  0.362748  0.495430  0.715929  0.677014  0.175735  0.632370  0.926715   \n",
      "4  0.033415  0.340433  0.790801  0.696930  0.819751  0.944029  0.869965   \n",
      "5  0.276827  0.260054  0.977025  0.509619  0.593212  0.911839  0.257645   \n",
      "6  0.995885  0.158381  0.194616  0.661459  0.674085  0.049326  0.785803   \n",
      "7  0.641917  0.821055  0.785776  0.251949  0.032847  0.995700  0.816563   \n",
      "8  0.806532  0.569258  0.398504  0.027637  0.409665  0.942846  0.133256   \n",
      "9  0.311185  0.501165  0.522344  0.053030  0.208551  0.824354  0.588567   \n",
      "\n",
      "         15        16        17  ...        19         2         3         4  \\\n",
      "0  0.816049  0.749068  0.293260  ...  0.880858  0.734309  0.598184  0.763433   \n",
      "1  0.045749  0.683793  0.389789  ...  0.503695  0.249642  0.787922  0.598583   \n",
      "2  0.739031  0.560394  0.334802  ...  0.646110  0.694262  0.622335  0.063843   \n",
      "3  0.085675  0.120525  0.141746  ...  0.489660  0.113876  0.594149  0.612522   \n",
      "4  0.041723  0.819140  0.676051  ...  0.872947  0.464971  0.363737  0.025815   \n",
      "5  0.386457  0.696932  0.069162  ...  0.286542  0.942397  0.113187  0.781355   \n",
      "6  0.315645  0.495355  0.232135  ...  0.572232  0.244274  0.962163  0.651900   \n",
      "7  0.735692  0.435998  0.430411  ...  0.489528  0.392437  0.782617  0.510762   \n",
      "8  0.157158  0.929446  0.402791  ...  0.246594  0.148175  0.809987  0.459632   \n",
      "9  0.604341  0.232964  0.229109  ...  0.479022  0.365979  0.782807  0.776795   \n",
      "\n",
      "          5         6         7         8         9  \\\n",
      "0  0.263434  0.868066  0.058092  0.753502  0.587513   \n",
      "1  0.827238  0.624126  0.601524  0.688753  0.338870   \n",
      "2  0.122683  0.815625  0.584542  0.032594  0.589775   \n",
      "3  0.625204  0.864050  0.260279  0.528873  0.168043   \n",
      "4  0.434129  0.415163  0.892210  0.381701  0.415264   \n",
      "5  0.475740  0.152061  0.250324  0.147078  0.162984   \n",
      "6  0.930665  0.577190  0.087914  0.960261  0.580840   \n",
      "7  0.428320  0.017324  0.680720  0.340412  0.462513   \n",
      "8  0.735762  0.730664  0.934502  0.080322  0.763502   \n",
      "9  0.797199  0.791946  0.847157  0.771811  0.233944   \n",
      "\n",
      "                                            file  \n",
      "0  lab_list_comprehension\\data\\sample_file_0.csv  \n",
      "1  lab_list_comprehension\\data\\sample_file_0.csv  \n",
      "2  lab_list_comprehension\\data\\sample_file_0.csv  \n",
      "3  lab_list_comprehension\\data\\sample_file_0.csv  \n",
      "4  lab_list_comprehension\\data\\sample_file_0.csv  \n",
      "5  lab_list_comprehension\\data\\sample_file_1.csv  \n",
      "6  lab_list_comprehension\\data\\sample_file_1.csv  \n",
      "7  lab_list_comprehension\\data\\sample_file_1.csv  \n",
      "8  lab_list_comprehension\\data\\sample_file_1.csv  \n",
      "9  lab_list_comprehension\\data\\sample_file_1.csv  \n",
      "\n",
      "[10 rows x 21 columns]\n"
     ]
    }
   ],
   "source": [
    "#7. Use a list comprehension and the Pandas read_csv and concat methods to read all CSV files in the /data directory\n",
    "path= \"lab_list_comprehension\\data\"\n",
    "all_files = glob.glob(os.path.join(path, \"*.csv\"))\n",
    "\n",
    "all_df = []\n",
    "for f in all_files:\n",
    "    df = pd.read_csv(f, sep=',')\n",
    "    df['file'] = f.split('/')[-1]\n",
    "    all_df.append(df)\n",
    "    merged_df = pd.concat(all_df, ignore_index=True, sort=True)\n",
    "print(merged_df[0:10])"
   ]
  },
  {
   "cell_type": "code",
   "execution_count": 169,
   "id": "4282335f",
   "metadata": {},
   "outputs": [],
   "source": [
    "#8. Use a list comprehension to select and print the column numbers for columns from the data set whose median is less than 0.48"
   ]
  },
  {
   "cell_type": "code",
   "execution_count": 170,
   "id": "8cda50d8",
   "metadata": {},
   "outputs": [],
   "source": [
    "#9. Use a list comprehension to add a new column (20) to the data frame whose values are the values in column 19 minus 0.1. Display the top 10 rows of the resulting data frame."
   ]
  },
  {
   "cell_type": "code",
   "execution_count": null,
   "id": "bc5f1081",
   "metadata": {},
   "outputs": [],
   "source": [
    "#10 Use a list comprehension to extract and print all values from the data set that are between 0.7 and 0.75\n"
   ]
  }
 ],
 "metadata": {
  "kernelspec": {
   "display_name": "Python 3",
   "language": "python",
   "name": "python3"
  },
  "language_info": {
   "codemirror_mode": {
    "name": "ipython",
    "version": 3
   },
   "file_extension": ".py",
   "mimetype": "text/x-python",
   "name": "python",
   "nbconvert_exporter": "python",
   "pygments_lexer": "ipython3",
   "version": "3.9.2"
  }
 },
 "nbformat": 4,
 "nbformat_minor": 5
}
